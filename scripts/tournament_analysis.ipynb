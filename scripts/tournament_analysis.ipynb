{
 "cells": [
  {
   "cell_type": "markdown",
   "metadata": {},
   "source": [
    "# Tournament Results Visualization\n",
    "\n",
    "This notebook reads tournament analysis CSV files and creates visualizations of agent performance."
   ]
  },
  {
   "cell_type": "code",
   "execution_count": 3,
   "metadata": {},
   "outputs": [],
   "source": [
    "import pandas as pd\n",
    "import plotly.graph_objects as go\n",
    "import plotly.express as px\n",
    "from plotly.subplots import make_subplots"
   ]
  },
  {
   "cell_type": "markdown",
   "metadata": {},
   "source": [
    "## Load Tournament Results"
   ]
  },
  {
   "cell_type": "code",
   "execution_count": 4,
   "metadata": {},
   "outputs": [
    {
     "name": "stdout",
     "output_type": "stream",
     "text": [
      "Tournament Results: 12 agents\n"
     ]
    },
    {
     "data": {
      "text/html": [
       "<div>\n",
       "<style scoped>\n",
       "    .dataframe tbody tr th:only-of-type {\n",
       "        vertical-align: middle;\n",
       "    }\n",
       "\n",
       "    .dataframe tbody tr th {\n",
       "        vertical-align: top;\n",
       "    }\n",
       "\n",
       "    .dataframe thead th {\n",
       "        text-align: right;\n",
       "    }\n",
       "</style>\n",
       "<table border=\"1\" class=\"dataframe\">\n",
       "  <thead>\n",
       "    <tr style=\"text-align: right;\">\n",
       "      <th></th>\n",
       "      <th>Rank</th>\n",
       "      <th>Agent</th>\n",
       "      <th>ELO</th>\n",
       "      <th>CI_Low</th>\n",
       "      <th>CI_High</th>\n",
       "      <th>Games</th>\n",
       "      <th>Wins</th>\n",
       "      <th>Losses</th>\n",
       "      <th>Draws</th>\n",
       "      <th>Win_Percentage</th>\n",
       "      <th>Error_Percentage</th>\n",
       "    </tr>\n",
       "  </thead>\n",
       "  <tbody>\n",
       "    <tr>\n",
       "      <th>0</th>\n",
       "      <td>1</td>\n",
       "      <td>LLMAgent_x-ai/grok-3-mini</td>\n",
       "      <td>1743.0</td>\n",
       "      <td>1652.0</td>\n",
       "      <td>1782.0</td>\n",
       "      <td>33</td>\n",
       "      <td>29</td>\n",
       "      <td>4</td>\n",
       "      <td>0</td>\n",
       "      <td>87.9</td>\n",
       "      <td>0.0</td>\n",
       "    </tr>\n",
       "    <tr>\n",
       "      <th>1</th>\n",
       "      <td>2</td>\n",
       "      <td>LLMAgent_openai/gpt-5-mini</td>\n",
       "      <td>1679.0</td>\n",
       "      <td>1606.0</td>\n",
       "      <td>1743.0</td>\n",
       "      <td>32</td>\n",
       "      <td>26</td>\n",
       "      <td>6</td>\n",
       "      <td>0</td>\n",
       "      <td>81.2</td>\n",
       "      <td>0.0</td>\n",
       "    </tr>\n",
       "    <tr>\n",
       "      <th>2</th>\n",
       "      <td>3</td>\n",
       "      <td>LLMAgent_openai/gpt-4.1-mini</td>\n",
       "      <td>1673.0</td>\n",
       "      <td>1614.0</td>\n",
       "      <td>1754.0</td>\n",
       "      <td>33</td>\n",
       "      <td>27</td>\n",
       "      <td>6</td>\n",
       "      <td>0</td>\n",
       "      <td>81.8</td>\n",
       "      <td>0.0</td>\n",
       "    </tr>\n",
       "    <tr>\n",
       "      <th>3</th>\n",
       "      <td>4</td>\n",
       "      <td>LLMAgent_openai/gpt-5-nano</td>\n",
       "      <td>1649.0</td>\n",
       "      <td>1565.0</td>\n",
       "      <td>1689.0</td>\n",
       "      <td>33</td>\n",
       "      <td>24</td>\n",
       "      <td>9</td>\n",
       "      <td>0</td>\n",
       "      <td>72.7</td>\n",
       "      <td>0.0</td>\n",
       "    </tr>\n",
       "    <tr>\n",
       "      <th>4</th>\n",
       "      <td>5</td>\n",
       "      <td>LLMAgent_google/gemini-2.5-flash-lite</td>\n",
       "      <td>1572.0</td>\n",
       "      <td>1514.0</td>\n",
       "      <td>1648.0</td>\n",
       "      <td>34</td>\n",
       "      <td>22</td>\n",
       "      <td>12</td>\n",
       "      <td>0</td>\n",
       "      <td>64.7</td>\n",
       "      <td>14.7</td>\n",
       "    </tr>\n",
       "  </tbody>\n",
       "</table>\n",
       "</div>"
      ],
      "text/plain": [
       "   Rank                                  Agent     ELO  CI_Low  CI_High  \\\n",
       "0     1              LLMAgent_x-ai/grok-3-mini  1743.0  1652.0   1782.0   \n",
       "1     2             LLMAgent_openai/gpt-5-mini  1679.0  1606.0   1743.0   \n",
       "2     3           LLMAgent_openai/gpt-4.1-mini  1673.0  1614.0   1754.0   \n",
       "3     4             LLMAgent_openai/gpt-5-nano  1649.0  1565.0   1689.0   \n",
       "4     5  LLMAgent_google/gemini-2.5-flash-lite  1572.0  1514.0   1648.0   \n",
       "\n",
       "   Games  Wins  Losses  Draws  Win_Percentage  Error_Percentage  \n",
       "0     33    29       4      0            87.9               0.0  \n",
       "1     32    26       6      0            81.2               0.0  \n",
       "2     33    27       6      0            81.8               0.0  \n",
       "3     33    24       9      0            72.7               0.0  \n",
       "4     34    22      12      0            64.7              14.7  "
      ]
     },
     "execution_count": 4,
     "metadata": {},
     "output_type": "execute_result"
    }
   ],
   "source": [
    "# Load the CSV file (update path as needed)\n",
    "df = pd.read_csv('./tournament_results.csv')\n",
    "\n",
    "# Display the data\n",
    "print(f\"Tournament Results: {len(df)} agents\")\n",
    "df.head()"
   ]
  },
  {
   "cell_type": "markdown",
   "metadata": {},
   "source": [
    "## ELO Ratings with Confidence Intervals"
   ]
  },
  {
   "cell_type": "code",
   "execution_count": 5,
   "metadata": {},
   "outputs": [
    {
     "name": "stdout",
     "output_type": "stream",
     "text": [
      "Data prepared for visualization\n"
     ]
    },
    {
     "data": {
      "text/html": [
       "<div>\n",
       "<style scoped>\n",
       "    .dataframe tbody tr th:only-of-type {\n",
       "        vertical-align: middle;\n",
       "    }\n",
       "\n",
       "    .dataframe tbody tr th {\n",
       "        vertical-align: top;\n",
       "    }\n",
       "\n",
       "    .dataframe thead th {\n",
       "        text-align: right;\n",
       "    }\n",
       "</style>\n",
       "<table border=\"1\" class=\"dataframe\">\n",
       "  <thead>\n",
       "    <tr style=\"text-align: right;\">\n",
       "      <th></th>\n",
       "      <th>Agent_Clean</th>\n",
       "      <th>ELO</th>\n",
       "      <th>CI_Low</th>\n",
       "      <th>CI_High</th>\n",
       "    </tr>\n",
       "  </thead>\n",
       "  <tbody>\n",
       "    <tr>\n",
       "      <th>0</th>\n",
       "      <td>x-ai_grok-3-mini</td>\n",
       "      <td>1743.0</td>\n",
       "      <td>1652.0</td>\n",
       "      <td>1782.0</td>\n",
       "    </tr>\n",
       "    <tr>\n",
       "      <th>1</th>\n",
       "      <td>openai_gpt-5-mini</td>\n",
       "      <td>1679.0</td>\n",
       "      <td>1606.0</td>\n",
       "      <td>1743.0</td>\n",
       "    </tr>\n",
       "    <tr>\n",
       "      <th>2</th>\n",
       "      <td>openai_gpt-4.1-mini</td>\n",
       "      <td>1673.0</td>\n",
       "      <td>1614.0</td>\n",
       "      <td>1754.0</td>\n",
       "    </tr>\n",
       "    <tr>\n",
       "      <th>3</th>\n",
       "      <td>openai_gpt-5-nano</td>\n",
       "      <td>1649.0</td>\n",
       "      <td>1565.0</td>\n",
       "      <td>1689.0</td>\n",
       "    </tr>\n",
       "    <tr>\n",
       "      <th>4</th>\n",
       "      <td>google_gemini-2.5-flash-lite</td>\n",
       "      <td>1572.0</td>\n",
       "      <td>1514.0</td>\n",
       "      <td>1648.0</td>\n",
       "    </tr>\n",
       "  </tbody>\n",
       "</table>\n",
       "</div>"
      ],
      "text/plain": [
       "                    Agent_Clean     ELO  CI_Low  CI_High\n",
       "0              x-ai_grok-3-mini  1743.0  1652.0   1782.0\n",
       "1             openai_gpt-5-mini  1679.0  1606.0   1743.0\n",
       "2           openai_gpt-4.1-mini  1673.0  1614.0   1754.0\n",
       "3             openai_gpt-5-nano  1649.0  1565.0   1689.0\n",
       "4  google_gemini-2.5-flash-lite  1572.0  1514.0   1648.0"
      ]
     },
     "execution_count": 5,
     "metadata": {},
     "output_type": "execute_result"
    }
   ],
   "source": [
    "# Calculate error bar values (distance from center to bounds)\n",
    "df['error_lower'] = df['ELO'] - df['CI_Low']\n",
    "df['error_upper'] = df['CI_High'] - df['ELO']\n",
    "\n",
    "# Clean up agent names for better display (remove \"LLMAgent_\" prefix)\n",
    "df['Agent_Clean'] = df['Agent'].str.replace('LLMAgent_', '').str.replace('/', '_')\n",
    "\n",
    "# Ensure data is sorted by ELO (should already be from analysis script)\n",
    "df = df.sort_values('ELO', ascending=False)\n",
    "\n",
    "print(\"Data prepared for visualization\")\n",
    "df[['Agent_Clean', 'ELO', 'CI_Low', 'CI_High']].head()"
   ]
  },
  {
   "cell_type": "markdown",
   "metadata": {},
   "source": [
    "## ELO Ratings Bar Chart"
   ]
  },
  {
   "cell_type": "code",
   "execution_count": 6,
   "metadata": {},
   "outputs": [
    {
     "data": {
      "application/vnd.plotly.v1+json": {
       "config": {
        "plotlyServerURL": "https://plot.ly"
       },
       "data": [
        {
         "customdata": {
          "bdata": "AAAAAADQmUAAAAAAANibQAAAAAAAgEBAmpmZmZn5VUAAAAAAAAAAAAAAAAAAGJlAAAAAAAA8m0AAAAAAAABAQM3MzMzMTFRAAAAAAAAAAAAAAAAAADiZQAAAAAAAaJtAAAAAAACAQEAzMzMzM3NUQAAAAAAAAAAAAAAAAAB0mEAAAAAAAGSaQAAAAAAAgEBAzczMzMwsUkAAAAAAAAAAAAAAAAAAqJdAAAAAAADAmUAAAAAAAABBQM3MzMzMLFBAZmZmZmZmLUAAAAAAAPCWQAAAAAAACJlAAAAAAAAAQUAzMzMzM/NLQAAAAAAAAAAAAAAAAAD0lkAAAAAAAPiYQAAAAAAAAEBAmpmZmZkZTEDNzMzMzMwYQAAAAAAA/JVAAAAAAAAwmEAAAAAAAIBAQAAAAAAAwEZAAAAAAAAAAAAAAAAAAJyUQAAAAAAAjJZAAAAAAACAQUCamZmZmZk8QAAAAAAAAAAAAAAAAAAgk0AAAAAAAOSUQAAAAAAAgEBAMzMzMzMzKEAzMzMzMzNVQAAAAAAA4JJAAAAAAACglEAAAAAAAIBAQDMzMzMzMyJAmpmZmZm5VkAAAAAAAJCSQAAAAAAAVJRAAAAAAACAQEBmZmZmZmYYQJqZmZmZeVdA",
          "dtype": "f8",
          "shape": "12, 5"
         },
         "error_y": {
          "array": {
           "bdata": "AAAAAACAQ0AAAAAAAABQQAAAAAAAQFRAAAAAAAAAREAAAAAAAABTQAAAAAAAAEhAAAAAAAAATkAAAAAAAABUQAAAAAAAgFRAAAAAAADAUEAAAAAAAIBKQAAAAAAAAFNA",
           "dtype": "f8"
          },
          "arrayminus": {
           "bdata": "AAAAAADAVkAAAAAAAEBSQAAAAAAAgE1AAAAAAAAAVUAAAAAAAABNQAAAAAAAgFVAAAAAAABAUUAAAAAAAIBOQAAAAAAAAEVAAAAAAAAAR0AAAAAAAIBNQAAAAAAAgEJA",
           "dtype": "f8"
          },
          "color": "rgba(0,0,0,0.5)",
          "symmetric": false,
          "thickness": 2,
          "type": "data",
          "visible": true,
          "width": 3
         },
         "hovertemplate": "<b>%{x}</b><br>ELO: %{y:.0f}<br>90% CI: [%{customdata[0]:.0f} - %{customdata[1]:.0f}]<br>Games: %{customdata[2]}<br>Win Rate: %{customdata[3]:.1f}%<br>Error Rate: %{customdata[4]:.1f}%<extra></extra>",
         "marker": {
          "color": {
           "bdata": "AAAAAAA8m0AAAAAAADyaQAAAAAAAJJpAAAAAAADEmUAAAAAAAJCYQAAAAAAASJhAAAAAAAAImEAAAAAAAPCWQAAAAAAARJVAAAAAAADYk0AAAAAAAMyTQAAAAAAAJJNA",
           "dtype": "f8"
          },
          "colorbar": {
           "title": {
            "text": "ELO Rating"
           }
          },
          "colorscale": [
           [
            0,
            "rgb(49,54,149)"
           ],
           [
            0.1,
            "rgb(69,117,180)"
           ],
           [
            0.2,
            "rgb(116,173,209)"
           ],
           [
            0.3,
            "rgb(171,217,233)"
           ],
           [
            0.4,
            "rgb(224,243,248)"
           ],
           [
            0.5,
            "rgb(255,255,191)"
           ],
           [
            0.6,
            "rgb(254,224,144)"
           ],
           [
            0.7,
            "rgb(253,174,97)"
           ],
           [
            0.8,
            "rgb(244,109,67)"
           ],
           [
            0.9,
            "rgb(215,48,39)"
           ],
           [
            1,
            "rgb(165,0,38)"
           ]
          ],
          "line": {
           "color": "black",
           "width": 1
          }
         },
         "text": [
          "1743",
          "1679",
          "1673",
          "1649",
          "1572",
          "1554",
          "1538",
          "1468",
          "1361",
          "1270",
          "1267",
          "1225"
         ],
         "textposition": "outside",
         "type": "bar",
         "x": [
          "x-ai_grok-3-mini",
          "openai_gpt-5-mini",
          "openai_gpt-4.1-mini",
          "openai_gpt-5-nano",
          "google_gemini-2.5-flash-lite",
          "google_gemma-3-27b-it",
          "openai_gpt-4.1-nano",
          "openai_gpt-4o-mini",
          "RandomAgent",
          "openai_gpt-oss-120b",
          "anthropic_claude-3.5-haiku-20241022",
          "openai_gpt-oss-20b"
         ],
         "y": {
          "bdata": "AAAAAAA8m0AAAAAAADyaQAAAAAAAJJpAAAAAAADEmUAAAAAAAJCYQAAAAAAASJhAAAAAAAAImEAAAAAAAPCWQAAAAAAARJVAAAAAAADYk0AAAAAAAMyTQAAAAAAAJJNA",
          "dtype": "f8"
         }
        }
       ],
       "layout": {
        "annotations": [
         {
          "showarrow": false,
          "text": "Starting ELO (1500)",
          "x": 1,
          "xanchor": "right",
          "xref": "x domain",
          "y": 1500,
          "yanchor": "bottom",
          "yref": "y"
         }
        ],
        "height": 600,
        "margin": {
         "b": 120
        },
        "plot_bgcolor": "white",
        "shapes": [
         {
          "line": {
           "color": "gray",
           "dash": "dash"
          },
          "type": "line",
          "x0": 0,
          "x1": 1,
          "xref": "x domain",
          "y0": 1500,
          "y1": 1500,
          "yref": "y"
         }
        ],
        "template": {
         "data": {
          "bar": [
           {
            "error_x": {
             "color": "#2a3f5f"
            },
            "error_y": {
             "color": "#2a3f5f"
            },
            "marker": {
             "line": {
              "color": "#E5ECF6",
              "width": 0.5
             },
             "pattern": {
              "fillmode": "overlay",
              "size": 10,
              "solidity": 0.2
             }
            },
            "type": "bar"
           }
          ],
          "barpolar": [
           {
            "marker": {
             "line": {
              "color": "#E5ECF6",
              "width": 0.5
             },
             "pattern": {
              "fillmode": "overlay",
              "size": 10,
              "solidity": 0.2
             }
            },
            "type": "barpolar"
           }
          ],
          "carpet": [
           {
            "aaxis": {
             "endlinecolor": "#2a3f5f",
             "gridcolor": "white",
             "linecolor": "white",
             "minorgridcolor": "white",
             "startlinecolor": "#2a3f5f"
            },
            "baxis": {
             "endlinecolor": "#2a3f5f",
             "gridcolor": "white",
             "linecolor": "white",
             "minorgridcolor": "white",
             "startlinecolor": "#2a3f5f"
            },
            "type": "carpet"
           }
          ],
          "choropleth": [
           {
            "colorbar": {
             "outlinewidth": 0,
             "ticks": ""
            },
            "type": "choropleth"
           }
          ],
          "contour": [
           {
            "colorbar": {
             "outlinewidth": 0,
             "ticks": ""
            },
            "colorscale": [
             [
              0,
              "#0d0887"
             ],
             [
              0.1111111111111111,
              "#46039f"
             ],
             [
              0.2222222222222222,
              "#7201a8"
             ],
             [
              0.3333333333333333,
              "#9c179e"
             ],
             [
              0.4444444444444444,
              "#bd3786"
             ],
             [
              0.5555555555555556,
              "#d8576b"
             ],
             [
              0.6666666666666666,
              "#ed7953"
             ],
             [
              0.7777777777777778,
              "#fb9f3a"
             ],
             [
              0.8888888888888888,
              "#fdca26"
             ],
             [
              1,
              "#f0f921"
             ]
            ],
            "type": "contour"
           }
          ],
          "contourcarpet": [
           {
            "colorbar": {
             "outlinewidth": 0,
             "ticks": ""
            },
            "type": "contourcarpet"
           }
          ],
          "heatmap": [
           {
            "colorbar": {
             "outlinewidth": 0,
             "ticks": ""
            },
            "colorscale": [
             [
              0,
              "#0d0887"
             ],
             [
              0.1111111111111111,
              "#46039f"
             ],
             [
              0.2222222222222222,
              "#7201a8"
             ],
             [
              0.3333333333333333,
              "#9c179e"
             ],
             [
              0.4444444444444444,
              "#bd3786"
             ],
             [
              0.5555555555555556,
              "#d8576b"
             ],
             [
              0.6666666666666666,
              "#ed7953"
             ],
             [
              0.7777777777777778,
              "#fb9f3a"
             ],
             [
              0.8888888888888888,
              "#fdca26"
             ],
             [
              1,
              "#f0f921"
             ]
            ],
            "type": "heatmap"
           }
          ],
          "histogram": [
           {
            "marker": {
             "pattern": {
              "fillmode": "overlay",
              "size": 10,
              "solidity": 0.2
             }
            },
            "type": "histogram"
           }
          ],
          "histogram2d": [
           {
            "colorbar": {
             "outlinewidth": 0,
             "ticks": ""
            },
            "colorscale": [
             [
              0,
              "#0d0887"
             ],
             [
              0.1111111111111111,
              "#46039f"
             ],
             [
              0.2222222222222222,
              "#7201a8"
             ],
             [
              0.3333333333333333,
              "#9c179e"
             ],
             [
              0.4444444444444444,
              "#bd3786"
             ],
             [
              0.5555555555555556,
              "#d8576b"
             ],
             [
              0.6666666666666666,
              "#ed7953"
             ],
             [
              0.7777777777777778,
              "#fb9f3a"
             ],
             [
              0.8888888888888888,
              "#fdca26"
             ],
             [
              1,
              "#f0f921"
             ]
            ],
            "type": "histogram2d"
           }
          ],
          "histogram2dcontour": [
           {
            "colorbar": {
             "outlinewidth": 0,
             "ticks": ""
            },
            "colorscale": [
             [
              0,
              "#0d0887"
             ],
             [
              0.1111111111111111,
              "#46039f"
             ],
             [
              0.2222222222222222,
              "#7201a8"
             ],
             [
              0.3333333333333333,
              "#9c179e"
             ],
             [
              0.4444444444444444,
              "#bd3786"
             ],
             [
              0.5555555555555556,
              "#d8576b"
             ],
             [
              0.6666666666666666,
              "#ed7953"
             ],
             [
              0.7777777777777778,
              "#fb9f3a"
             ],
             [
              0.8888888888888888,
              "#fdca26"
             ],
             [
              1,
              "#f0f921"
             ]
            ],
            "type": "histogram2dcontour"
           }
          ],
          "mesh3d": [
           {
            "colorbar": {
             "outlinewidth": 0,
             "ticks": ""
            },
            "type": "mesh3d"
           }
          ],
          "parcoords": [
           {
            "line": {
             "colorbar": {
              "outlinewidth": 0,
              "ticks": ""
             }
            },
            "type": "parcoords"
           }
          ],
          "pie": [
           {
            "automargin": true,
            "type": "pie"
           }
          ],
          "scatter": [
           {
            "fillpattern": {
             "fillmode": "overlay",
             "size": 10,
             "solidity": 0.2
            },
            "type": "scatter"
           }
          ],
          "scatter3d": [
           {
            "line": {
             "colorbar": {
              "outlinewidth": 0,
              "ticks": ""
             }
            },
            "marker": {
             "colorbar": {
              "outlinewidth": 0,
              "ticks": ""
             }
            },
            "type": "scatter3d"
           }
          ],
          "scattercarpet": [
           {
            "marker": {
             "colorbar": {
              "outlinewidth": 0,
              "ticks": ""
             }
            },
            "type": "scattercarpet"
           }
          ],
          "scattergeo": [
           {
            "marker": {
             "colorbar": {
              "outlinewidth": 0,
              "ticks": ""
             }
            },
            "type": "scattergeo"
           }
          ],
          "scattergl": [
           {
            "marker": {
             "colorbar": {
              "outlinewidth": 0,
              "ticks": ""
             }
            },
            "type": "scattergl"
           }
          ],
          "scattermap": [
           {
            "marker": {
             "colorbar": {
              "outlinewidth": 0,
              "ticks": ""
             }
            },
            "type": "scattermap"
           }
          ],
          "scattermapbox": [
           {
            "marker": {
             "colorbar": {
              "outlinewidth": 0,
              "ticks": ""
             }
            },
            "type": "scattermapbox"
           }
          ],
          "scatterpolar": [
           {
            "marker": {
             "colorbar": {
              "outlinewidth": 0,
              "ticks": ""
             }
            },
            "type": "scatterpolar"
           }
          ],
          "scatterpolargl": [
           {
            "marker": {
             "colorbar": {
              "outlinewidth": 0,
              "ticks": ""
             }
            },
            "type": "scatterpolargl"
           }
          ],
          "scatterternary": [
           {
            "marker": {
             "colorbar": {
              "outlinewidth": 0,
              "ticks": ""
             }
            },
            "type": "scatterternary"
           }
          ],
          "surface": [
           {
            "colorbar": {
             "outlinewidth": 0,
             "ticks": ""
            },
            "colorscale": [
             [
              0,
              "#0d0887"
             ],
             [
              0.1111111111111111,
              "#46039f"
             ],
             [
              0.2222222222222222,
              "#7201a8"
             ],
             [
              0.3333333333333333,
              "#9c179e"
             ],
             [
              0.4444444444444444,
              "#bd3786"
             ],
             [
              0.5555555555555556,
              "#d8576b"
             ],
             [
              0.6666666666666666,
              "#ed7953"
             ],
             [
              0.7777777777777778,
              "#fb9f3a"
             ],
             [
              0.8888888888888888,
              "#fdca26"
             ],
             [
              1,
              "#f0f921"
             ]
            ],
            "type": "surface"
           }
          ],
          "table": [
           {
            "cells": {
             "fill": {
              "color": "#EBF0F8"
             },
             "line": {
              "color": "white"
             }
            },
            "header": {
             "fill": {
              "color": "#C8D4E3"
             },
             "line": {
              "color": "white"
             }
            },
            "type": "table"
           }
          ]
         },
         "layout": {
          "annotationdefaults": {
           "arrowcolor": "#2a3f5f",
           "arrowhead": 0,
           "arrowwidth": 1
          },
          "autotypenumbers": "strict",
          "coloraxis": {
           "colorbar": {
            "outlinewidth": 0,
            "ticks": ""
           }
          },
          "colorscale": {
           "diverging": [
            [
             0,
             "#8e0152"
            ],
            [
             0.1,
             "#c51b7d"
            ],
            [
             0.2,
             "#de77ae"
            ],
            [
             0.3,
             "#f1b6da"
            ],
            [
             0.4,
             "#fde0ef"
            ],
            [
             0.5,
             "#f7f7f7"
            ],
            [
             0.6,
             "#e6f5d0"
            ],
            [
             0.7,
             "#b8e186"
            ],
            [
             0.8,
             "#7fbc41"
            ],
            [
             0.9,
             "#4d9221"
            ],
            [
             1,
             "#276419"
            ]
           ],
           "sequential": [
            [
             0,
             "#0d0887"
            ],
            [
             0.1111111111111111,
             "#46039f"
            ],
            [
             0.2222222222222222,
             "#7201a8"
            ],
            [
             0.3333333333333333,
             "#9c179e"
            ],
            [
             0.4444444444444444,
             "#bd3786"
            ],
            [
             0.5555555555555556,
             "#d8576b"
            ],
            [
             0.6666666666666666,
             "#ed7953"
            ],
            [
             0.7777777777777778,
             "#fb9f3a"
            ],
            [
             0.8888888888888888,
             "#fdca26"
            ],
            [
             1,
             "#f0f921"
            ]
           ],
           "sequentialminus": [
            [
             0,
             "#0d0887"
            ],
            [
             0.1111111111111111,
             "#46039f"
            ],
            [
             0.2222222222222222,
             "#7201a8"
            ],
            [
             0.3333333333333333,
             "#9c179e"
            ],
            [
             0.4444444444444444,
             "#bd3786"
            ],
            [
             0.5555555555555556,
             "#d8576b"
            ],
            [
             0.6666666666666666,
             "#ed7953"
            ],
            [
             0.7777777777777778,
             "#fb9f3a"
            ],
            [
             0.8888888888888888,
             "#fdca26"
            ],
            [
             1,
             "#f0f921"
            ]
           ]
          },
          "colorway": [
           "#636efa",
           "#EF553B",
           "#00cc96",
           "#ab63fa",
           "#FFA15A",
           "#19d3f3",
           "#FF6692",
           "#B6E880",
           "#FF97FF",
           "#FECB52"
          ],
          "font": {
           "color": "#2a3f5f"
          },
          "geo": {
           "bgcolor": "white",
           "lakecolor": "white",
           "landcolor": "#E5ECF6",
           "showlakes": true,
           "showland": true,
           "subunitcolor": "white"
          },
          "hoverlabel": {
           "align": "left"
          },
          "hovermode": "closest",
          "mapbox": {
           "style": "light"
          },
          "paper_bgcolor": "white",
          "plot_bgcolor": "#E5ECF6",
          "polar": {
           "angularaxis": {
            "gridcolor": "white",
            "linecolor": "white",
            "ticks": ""
           },
           "bgcolor": "#E5ECF6",
           "radialaxis": {
            "gridcolor": "white",
            "linecolor": "white",
            "ticks": ""
           }
          },
          "scene": {
           "xaxis": {
            "backgroundcolor": "#E5ECF6",
            "gridcolor": "white",
            "gridwidth": 2,
            "linecolor": "white",
            "showbackground": true,
            "ticks": "",
            "zerolinecolor": "white"
           },
           "yaxis": {
            "backgroundcolor": "#E5ECF6",
            "gridcolor": "white",
            "gridwidth": 2,
            "linecolor": "white",
            "showbackground": true,
            "ticks": "",
            "zerolinecolor": "white"
           },
           "zaxis": {
            "backgroundcolor": "#E5ECF6",
            "gridcolor": "white",
            "gridwidth": 2,
            "linecolor": "white",
            "showbackground": true,
            "ticks": "",
            "zerolinecolor": "white"
           }
          },
          "shapedefaults": {
           "line": {
            "color": "#2a3f5f"
           }
          },
          "ternary": {
           "aaxis": {
            "gridcolor": "white",
            "linecolor": "white",
            "ticks": ""
           },
           "baxis": {
            "gridcolor": "white",
            "linecolor": "white",
            "ticks": ""
           },
           "bgcolor": "#E5ECF6",
           "caxis": {
            "gridcolor": "white",
            "linecolor": "white",
            "ticks": ""
           }
          },
          "title": {
           "x": 0.05
          },
          "xaxis": {
           "automargin": true,
           "gridcolor": "white",
           "linecolor": "white",
           "ticks": "",
           "title": {
            "standoff": 15
           },
           "zerolinecolor": "white",
           "zerolinewidth": 2
          },
          "yaxis": {
           "automargin": true,
           "gridcolor": "white",
           "linecolor": "white",
           "ticks": "",
           "title": {
            "standoff": 15
           },
           "zerolinecolor": "white",
           "zerolinewidth": 2
          }
         }
        },
        "title": {
         "font": {
          "size": 16
         },
         "text": "Tournament Results: ELO Ratings with 90% Confidence Intervals",
         "x": 0.5
        },
        "width": 1000,
        "xaxis": {
         "tickangle": 45,
         "tickfont": {
          "size": 10
         },
         "title": {
          "text": "Agent"
         }
        },
        "yaxis": {
         "gridcolor": "lightgray",
         "title": {
          "text": "ELO Rating"
         }
        }
       }
      }
     },
     "metadata": {},
     "output_type": "display_data"
    }
   ],
   "source": [
    "# Create bar chart with error bars\n",
    "fig = go.Figure()\n",
    "\n",
    "# Add bars with error bars\n",
    "fig.add_trace(go.Bar(\n",
    "    x=df['Agent_Clean'],\n",
    "    y=df['ELO'],\n",
    "    error_y=dict(\n",
    "        type='data',\n",
    "        symmetric=False,\n",
    "        array=df['error_upper'],\n",
    "        arrayminus=df['error_lower'],\n",
    "        visible=True,\n",
    "        color='rgba(0,0,0,0.5)',\n",
    "        thickness=2,\n",
    "        width=3\n",
    "    ),\n",
    "    marker=dict(\n",
    "        color=df['ELO'],\n",
    "        colorscale='RdYlBu_r',\n",
    "        colorbar=dict(title=\"ELO Rating\"),\n",
    "        line=dict(color='black', width=1)\n",
    "    ),\n",
    "    text=[f\"{elo:.0f}\" for elo in df['ELO']],\n",
    "    textposition='outside',\n",
    "    hovertemplate=(\n",
    "        \"<b>%{x}</b><br>\" +\n",
    "        \"ELO: %{y:.0f}<br>\" +\n",
    "        \"90% CI: [%{customdata[0]:.0f} - %{customdata[1]:.0f}]<br>\" +\n",
    "        \"Games: %{customdata[2]}<br>\" +\n",
    "        \"Win Rate: %{customdata[3]:.1f}%<br>\" +\n",
    "        \"Error Rate: %{customdata[4]:.1f}%\" +\n",
    "        \"<extra></extra>\"\n",
    "    ),\n",
    "    customdata=df[['CI_Low', 'CI_High', 'Games', 'Win_Percentage', 'Error_Percentage']].values\n",
    "))\n",
    "\n",
    "# Update layout\n",
    "fig.update_layout(\n",
    "    title={\n",
    "        'text': 'Tournament Results: ELO Ratings with 90% Confidence Intervals',\n",
    "        'x': 0.5,\n",
    "        'font': {'size': 16}\n",
    "    },\n",
    "    xaxis=dict(\n",
    "        title='Agent',\n",
    "        tickangle=45,\n",
    "        tickfont=dict(size=10)\n",
    "    ),\n",
    "    yaxis=dict(\n",
    "        title='ELO Rating',\n",
    "        gridcolor='lightgray'\n",
    "    ),\n",
    "    plot_bgcolor='white',\n",
    "    height=600,\n",
    "    width=1000,\n",
    "    margin=dict(b=120)  # Extra bottom margin for rotated labels\n",
    ")\n",
    "\n",
    "# Add baseline ELO reference line\n",
    "fig.add_hline(y=1500, line_dash=\"dash\", line_color=\"gray\", \n",
    "              annotation_text=\"Starting ELO (1500)\", annotation_position=\"top right\")\n",
    "\n",
    "fig.show()"
   ]
  },
  {
   "cell_type": "markdown",
   "metadata": {},
   "source": [
    "## Summary Statistics"
   ]
  },
  {
   "cell_type": "code",
   "execution_count": 7,
   "metadata": {},
   "outputs": [
    {
     "name": "stdout",
     "output_type": "stream",
     "text": [
      "Tournament Summary Statistics:\n",
      "Total Agents: 12\n",
      "Total Games: 199\n",
      "ELO Range: 1225 - 1743\n",
      "Average ELO: 1500\n",
      "\n",
      "Top 3 Performers:\n",
      "  1. x-ai_grok-3-mini: 1743 ELO (87.9% wins)\n",
      "  2. openai_gpt-5-mini: 1679 ELO (81.2% wins)\n",
      "  3. openai_gpt-4.1-mini: 1673 ELO (81.8% wins)\n",
      "\n",
      "Agents with Error Issues (>10% error rate):\n",
      "  google_gemini-2.5-flash-lite: 14.7% error rate\n",
      "  openai_gpt-oss-120b: 84.8% error rate\n",
      "  anthropic_claude-3.5-haiku-20241022: 90.9% error rate\n",
      "  openai_gpt-oss-20b: 93.9% error rate\n"
     ]
    }
   ],
   "source": [
    "print(\"Tournament Summary Statistics:\")\n",
    "print(f\"Total Agents: {len(df)}\")\n",
    "print(f\"Total Games: {df['Games'].sum() // 2}\")\n",
    "print(f\"ELO Range: {df['ELO'].min():.0f} - {df['ELO'].max():.0f}\")\n",
    "print(f\"Average ELO: {df['ELO'].mean():.0f}\")\n",
    "print(f\"\\nTop 3 Performers:\")\n",
    "for i, row in df.head(3).iterrows():\n",
    "    print(f\"  {row['Rank']}. {row['Agent_Clean']}: {row['ELO']:.0f} ELO ({row['Win_Percentage']:.1f}% wins)\")\n",
    "\n",
    "print(f\"\\nAgents with Error Issues (>10% error rate):\")\n",
    "error_agents = df[df['Error_Percentage'] > 10]\n",
    "for i, row in error_agents.iterrows():\n",
    "    print(f\"  {row['Agent_Clean']}: {row['Error_Percentage']:.1f}% error rate\")"
   ]
  }
 ],
 "metadata": {
  "kernelspec": {
   "display_name": ".venv",
   "language": "python",
   "name": "python3"
  },
  "language_info": {
   "codemirror_mode": {
    "name": "ipython",
    "version": 3
   },
   "file_extension": ".py",
   "mimetype": "text/x-python",
   "name": "python",
   "nbconvert_exporter": "python",
   "pygments_lexer": "ipython3",
   "version": "3.13.2"
  }
 },
 "nbformat": 4,
 "nbformat_minor": 4
}
